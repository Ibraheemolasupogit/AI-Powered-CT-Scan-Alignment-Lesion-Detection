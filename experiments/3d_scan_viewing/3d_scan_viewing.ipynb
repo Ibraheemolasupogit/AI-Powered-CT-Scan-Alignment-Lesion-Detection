{
 "cells": [
  {
   "cell_type": "markdown",
   "metadata": {},
   "source": [
    "# 3D Scan Visualisation"
   ]
  },
  {
   "cell_type": "markdown",
   "metadata": {},
   "source": [
    "This experiments with plotting 3D scan data with various python tools including:\r\n",
    "\r\n",
    "- Open3d (requires python < 3.9.5 so less useful - and does not integrate with Qt nicely)\r\n",
    "- Matplotlib\r\n",
    "- pyqtgraph"
   ]
  },
  {
   "cell_type": "markdown",
   "metadata": {},
   "source": [
    "Overall pyqtgraph looks to be the most appropriate method for plotting and will integrate well with a GUI interface."
   ]
  },
  {
   "cell_type": "code",
   "execution_count": null,
   "metadata": {},
   "outputs": [],
   "source": [
    "from pathlib import Path\n",
    "\n",
    "%matplotlib inline\n",
    "\n",
    "import numpy as np\n",
    "import matplotlib.pyplot as plt\n",
    "from mpl_toolkits import mplot3d\n",
    "from ai_ct_scans.data_loading import MultiPatientLoader\n",
    "import pyqtgraph"
   ]
  },
  {
   "cell_type": "markdown",
   "metadata": {},
   "source": [
    "## Load Data"
   ]
  },
  {
   "cell_type": "code",
   "execution_count": null,
   "metadata": {},
   "outputs": [],
   "source": [
    "data = MultiPatientLoader()"
   ]
  },
  {
   "cell_type": "code",
   "execution_count": null,
   "metadata": {},
   "outputs": [],
   "source": [
    "data.patients[0].abdo.scan_1.load_scan()\n",
    "print(data.patients[0].abdo.scan_1.full_scan.shape)"
   ]
  },
  {
   "cell_type": "markdown",
   "metadata": {},
   "source": [
    "## Normalise Data"
   ]
  },
  {
   "cell_type": "code",
   "execution_count": null,
   "metadata": {},
   "outputs": [],
   "source": [
    "norm_data = data.patients[0].abdo.scan_1.full_scan\n",
    "norm_data *= 1.0 / norm_data.max()"
   ]
  },
  {
   "cell_type": "code",
   "execution_count": null,
   "metadata": {},
   "outputs": [],
   "source": [
    "print(norm_data[100:110, 255, 100:101])"
   ]
  },
  {
   "cell_type": "markdown",
   "metadata": {},
   "source": [
    "## Try pyqtgraph plotting"
   ]
  },
  {
   "cell_type": "code",
   "execution_count": null,
   "metadata": {},
   "outputs": [],
   "source": [
    "# Threshold and slice data\n",
    "pointcloud = np.where(norm_data[:, :, :] > 0, norm_data[:, :, :], 0)\n",
    "print(pointcloud.shape)"
   ]
  },
  {
   "cell_type": "code",
   "execution_count": null,
   "metadata": {},
   "outputs": [],
   "source": [
    "%gui widget\n",
    "from PySide2.QtWidgets import QApplication\n",
    "from PySide2 import QtCore\n",
    "import pyqtgraph as pg\n",
    "import pyqtgraph.opengl as gl"
   ]
  },
  {
   "cell_type": "code",
   "execution_count": null,
   "metadata": {},
   "outputs": [],
   "source": [
    "# start qt event loop\n",
    "_instance = QApplication.instance()\n",
    "if not _instance:\n",
    "    _instance = QApplication([])\n",
    "app = _instance\n",
    "\n",
    "QApplication.setAttribute(QtCore.Qt.AA_EnableHighDpiScaling)\n",
    "QApplication.setAttribute(QtCore.Qt.AA_UseHighDpiPixmaps)\n",
    "\n",
    "pg.setConfigOptions(antialias=True)"
   ]
  },
  {
   "cell_type": "code",
   "execution_count": null,
   "metadata": {},
   "outputs": [],
   "source": [
    "# Data (for only plotting whole scan)\n",
    "points = pointcloud\n",
    "\n",
    "d2 = np.empty(points.shape + (4,), dtype=np.ubyte)\n",
    "\n",
    "intensity_vals = points * (255.0 / (points.max() / 1))\n",
    "\n",
    "d2[..., 0] = intensity_vals\n",
    "d2[..., 1] = intensity_vals * 0\n",
    "d2[..., 2] = intensity_vals * 0\n",
    "\n",
    "d2[..., 3] = intensity_vals\n",
    "d2[..., 3] = (d2[..., 3].astype(float) / 255.0) ** 2 * 255 * 0.1\n",
    "\n",
    "# Subset of data\n",
    "d_vals = np.where(norm_data[:, :, :] > 0.3, norm_data[:, :, :], 0)\n",
    "\n",
    "d_extra = np.empty(d_vals.shape + (4,), dtype=np.ubyte)\n",
    "\n",
    "intensity_vals = d_vals * (255.0 / (d_vals.max() / 1))\n",
    "\n",
    "d_extra[..., 0] = intensity_vals\n",
    "d_extra[..., 1] = intensity_vals * 0\n",
    "d_extra[..., 2] = intensity_vals * 0\n",
    "\n",
    "d_extra[..., 3] = intensity_vals\n",
    "d_extra[..., 3] = (d_extra[..., 3].astype(float) / 255.0) ** 2 * 255 * 0.1\n",
    "\n",
    "# Subset of data2\n",
    "d_vals = np.where(\n",
    "    np.logical_and(norm_data[:, :, :] < 0.3, norm_data[:, :, :] > 0.1),\n",
    "    norm_data[:, :, :],\n",
    "    0,\n",
    ")\n",
    "\n",
    "d_other = np.empty(d_vals.shape + (4,), dtype=np.ubyte)\n",
    "\n",
    "intensity_vals = d_vals * (255.0 / (d_vals.max() / 1))\n",
    "\n",
    "d_other[..., 0] = intensity_vals * 0\n",
    "d_other[..., 1] = intensity_vals\n",
    "d_other[..., 2] = intensity_vals * 0\n",
    "\n",
    "d_other[..., 3] = intensity_vals\n",
    "d_other[..., 3] = (d_other[..., 3].astype(float) / 255.0) ** 2 * 255 * 0.1"
   ]
  },
  {
   "cell_type": "code",
   "execution_count": null,
   "metadata": {},
   "outputs": [],
   "source": [
    "# Combine extra data\n",
    "d2 = d_other + d_extra\n",
    "\n",
    "# Add Axis lines\n",
    "d2[:, 0, 0] = [255, 0, 0, 255]\n",
    "d2[0, :, 0] = [0, 255, 0, 255]\n",
    "d2[0, 0, :] = [0, 0, 255, 255]"
   ]
  },
  {
   "cell_type": "code",
   "execution_count": null,
   "metadata": {},
   "outputs": [],
   "source": [
    "# Create view widget\n",
    "view = gl.GLViewWidget()\n",
    "# view.orbit(256, 256)\n",
    "# view.setCameraPosition(pos=[0,0,0], distance=100, azimuth=180, elevation=40)\n",
    "view.show()\n",
    "view.setWindowTitle(\"pyqtgraph: GLVolumeItem CT Scans\")\n",
    "\n",
    "# Optional Grid\n",
    "# g = gl.GLGridItem()\n",
    "# g.scale(20, 20, 1)\n",
    "# view.addItem(g)\n",
    "\n",
    "# Set scan data\n",
    "scatter = pg.opengl.GLVolumeItem(d2, smooth=False, glOptions=\"translucent\")\n",
    "scatter.translate(-d2.shape[0] / 2, -d2.shape[1] / 2, -150)\n",
    "view.addItem(scatter)\n",
    "\n",
    "# Trigger App\n",
    "sys.exit(app.exec_())"
   ]
  },
  {
   "cell_type": "markdown",
   "metadata": {},
   "source": [
    "### pyqtgraph scatter plot"
   ]
  },
  {
   "cell_type": "markdown",
   "metadata": {},
   "source": [
    "Code below attempts to form a suitable data shape for scatter plotting and to centre the scatter plot."
   ]
  },
  {
   "cell_type": "code",
   "execution_count": null,
   "metadata": {},
   "outputs": [],
   "source": [
    "pointcloud = np.where(norm_data[:, 250:255, :] > 0, norm_data[:, 250:255, :], 0)\n",
    "\n",
    "# Convert to nonzero point indices for plotting\n",
    "x, y, z = pointcloud.nonzero()\n",
    "\n",
    "# Assign colour intensity values\n",
    "c = pointcloud[x, y, z]\n",
    "colour_points = np.column_stack((c, c, c, 0.05 * np.ones(len(c))))\n",
    "\n",
    "# Center points around centre of scan\n",
    "x = x - 0.5 * max(x)\n",
    "y = y - 0.5 * max(y)\n",
    "z = z - 0.5 * max(z)\n",
    "\n",
    "points = np.column_stack((x, y, z))\n",
    "colours = np.column_stack((np.ones(len(c)), np.ones(len(c)), np.ones(len(c)), c))\n",
    "\n",
    "print(points.shape)"
   ]
  },
  {
   "cell_type": "code",
   "execution_count": null,
   "metadata": {},
   "outputs": [],
   "source": [
    "# Check points formatting\n",
    "print(points.shape)\n",
    "print(points)\n",
    "\n",
    "# Create view widget\n",
    "view = gl.GLViewWidget()\n",
    "scatter = pg.opengl.GLScatterPlotItem()\n",
    "\n",
    "# Set scan data\n",
    "scatter.setData(pos=points, size=1, color=colour_points, pxMode=True)\n",
    "view.addItem(scatter)\n",
    "view.show()\n",
    "\n",
    "sys.exit(app.exec_())"
   ]
  },
  {
   "cell_type": "markdown",
   "metadata": {},
   "source": [
    "## Alternative plotting methods"
   ]
  },
  {
   "cell_type": "markdown",
   "metadata": {},
   "source": [
    "### Generate slice of data (for alternative plotting)"
   ]
  },
  {
   "cell_type": "code",
   "execution_count": null,
   "metadata": {},
   "outputs": [],
   "source": [
    "view_of_data = np.where(norm_data[:, 254:255, :] > 0.5, True, False)"
   ]
  },
  {
   "cell_type": "markdown",
   "metadata": {},
   "source": [
    "### Plot data in 3D with matplotlib"
   ]
  },
  {
   "cell_type": "code",
   "execution_count": null,
   "metadata": {},
   "outputs": [],
   "source": [
    "slice_of_data = norm_data[:, 254:255, :] - norm_data.min()\n",
    "\n",
    "x, y, z = slice_of_data.nonzero()\n",
    "cval = slice_of_data[x, y, z].flat\n",
    "\n",
    "fig = plt.figure(figsize=(4, 3), dpi=300)\n",
    "ax = fig.add_subplot(projection=\"3d\")\n",
    "s = ax.scatter(x, y, z, c=cval, alpha=0.9, s=0.001)\n",
    "plt.ylim([-5, 5])\n",
    "\n",
    "ax.view_init(0, 90)\n",
    "plt.savefig(Path.cwd() / \"3d_scan_plot_scatter_test.png\")\n",
    "plt.show()"
   ]
  },
  {
   "cell_type": "markdown",
   "metadata": {},
   "source": [
    "Try different slice"
   ]
  },
  {
   "cell_type": "code",
   "execution_count": null,
   "metadata": {},
   "outputs": [],
   "source": [
    "slice_of_data = norm_data[250:400, 225:255, 250:400] - norm_data.min()\n",
    "\n",
    "x, y, z = slice_of_data.nonzero()\n",
    "cval = slice_of_data[x, y, z].flat\n",
    "\n",
    "fig = plt.figure(figsize=(4, 3), dpi=300)\n",
    "ax = fig.add_subplot(projection=\"3d\")\n",
    "s = ax.scatter(x, y, z, c=cval, alpha=0.2, s=0.001)\n",
    "\n",
    "ax.view_init(30, 60)\n",
    "plt.savefig(Path(os.getcwd()) / \"3d_scan_plot_scatter_test2.png\")\n",
    "plt.show()"
   ]
  },
  {
   "cell_type": "markdown",
   "metadata": {},
   "source": [
    "Try voxel plotting"
   ]
  },
  {
   "cell_type": "code",
   "execution_count": null,
   "metadata": {},
   "outputs": [],
   "source": [
    "view_of_data = norm_data[:, 254:255, :] - norm_data.min()\n",
    "\n",
    "fig = plt.figure()\n",
    "ax = fig.add_subplot(projection=\"3d\")\n",
    "ax.voxels(view_of_data)\n",
    "plt.ylim([-10, 10])\n",
    "\n",
    "ax.view_init(30, 60)\n",
    "plt.savefig(Path.cwd() / \"3d_scan_plot_test.png\")\n",
    "plt.show()"
   ]
  },
  {
   "cell_type": "markdown",
   "metadata": {},
   "source": [
    "### Try Open3D Rendering"
   ]
  },
  {
   "cell_type": "code",
   "execution_count": null,
   "metadata": {},
   "outputs": [],
   "source": [
    "import open3d as o3d  # Does not install with python 3.9.5 (needs older version)"
   ]
  },
  {
   "cell_type": "code",
   "execution_count": null,
   "metadata": {},
   "outputs": [],
   "source": [
    "pcd = o3d.geometry.PointCloud()"
   ]
  },
  {
   "cell_type": "code",
   "execution_count": null,
   "metadata": {},
   "outputs": [],
   "source": [
    "pcd.points = o3d.utility.Vector3dVector(points)\n",
    "pcd.colors = o3d.utility.Vector3dVector(colours)\n",
    "o3d.io.write_point_cloud(Path.cwd() / \"sync.ply\", pcd)"
   ]
  },
  {
   "cell_type": "code",
   "execution_count": null,
   "metadata": {},
   "outputs": [],
   "source": [
    "pcd_load = o3d.io.read_point_cloud(Path.cwd() / \"sync.ply\")"
   ]
  },
  {
   "cell_type": "code",
   "execution_count": null,
   "metadata": {},
   "outputs": [],
   "source": [
    "vis = o3d.visualization.Visualizer()\n",
    "vis.create_window()\n",
    "vis.add_geometry(pcd_load)\n",
    "vis.get_render_option().load_from_json(Path.cwd() / \"renderoption.json\")\n",
    "vis.run()\n",
    "vis.destroy_window()"
   ]
  },
  {
   "cell_type": "code",
   "execution_count": null,
   "metadata": {},
   "outputs": [],
   "source": [
    "renderer = o3d.visualization.rendering.OffscreenRenderer(1024, 768, headless=True)"
   ]
  }
 ],
 "metadata": {
  "interpreter": {
   "hash": "81f2f2dbc360a0e9dd8d0b5ce7f6d3c6aa3f301b8130915ab4e5ead6609bbf47"
  },
  "kernelspec": {
   "display_name": "Python 3.9.5 64-bit ('venv': virtualenv)",
   "name": "python3"
  },
  "language_info": {
   "codemirror_mode": {
    "name": "ipython",
    "version": 3
   },
   "file_extension": ".py",
   "mimetype": "text/x-python",
   "name": "python",
   "nbconvert_exporter": "python",
   "pygments_lexer": "ipython3",
   "version": "3.9.5"
  }
 },
 "nbformat": 4,
 "nbformat_minor": 5
}
