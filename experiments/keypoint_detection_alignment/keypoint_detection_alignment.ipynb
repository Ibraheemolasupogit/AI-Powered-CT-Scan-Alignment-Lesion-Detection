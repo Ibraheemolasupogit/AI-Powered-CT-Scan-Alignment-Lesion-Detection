{
 "cells": [
  {
   "cell_type": "markdown",
   "metadata": {},
   "source": [
    "# Alignment using Keypoint Detection Methods"
   ]
  },
  {
   "cell_type": "code",
   "execution_count": null,
   "metadata": {},
   "outputs": [],
   "source": [
    "import cv2\n",
    "import numpy as np\n",
    "\n",
    "from matplotlib import pyplot as plt\n",
    "\n",
    "plt.rcParams[\"figure.figsize\"] = [20, 10]\n",
    "\n",
    "from ai_ct_scans import data_loading, keypoint_alignment"
   ]
  },
  {
   "cell_type": "code",
   "execution_count": null,
   "metadata": {},
   "outputs": [],
   "source": [
    "# Load full scan data\n",
    "dl = data_loading.MultiPatientLoader()\n",
    "dl.patients[0].thorax.scan_1.load_scan()\n",
    "dl.patients[0].thorax.scan_2.load_scan()"
   ]
  },
  {
   "cell_type": "code",
   "execution_count": null,
   "metadata": {},
   "outputs": [],
   "source": [
    "# Plot some full scale data\n",
    "f, axarr = plt.subplots(1, 2)\n",
    "axarr[0].imshow(dl.patients[0].thorax.scan_1.full_scan[:, 255, :])\n",
    "axarr[0].title.set_text(\"First scan\")\n",
    "axarr[1].imshow(dl.patients[0].thorax.scan_2.full_scan[:, 255, :])\n",
    "axarr[1].title.set_text(\"Second scan\")"
   ]
  },
  {
   "cell_type": "code",
   "execution_count": null,
   "metadata": {},
   "outputs": [],
   "source": [
    "full_images = [\n",
    "    cv2.normalize(\n",
    "        dl.patients[0].thorax.scan_1.full_scan[:, 255, :],\n",
    "        np.zeros((0, 0)),\n",
    "        0,\n",
    "        255,\n",
    "        cv2.NORM_MINMAX,\n",
    "    ).astype(\"uint8\"),\n",
    "    cv2.normalize(\n",
    "        dl.patients[0].thorax.scan_2.full_scan[:, 255, :],\n",
    "        np.zeros((0, 0)),\n",
    "        0,\n",
    "        255,\n",
    "        cv2.NORM_MINMAX,\n",
    "    ).astype(\"uint8\"),\n",
    "]"
   ]
  },
  {
   "cell_type": "code",
   "execution_count": null,
   "metadata": {},
   "outputs": [],
   "source": [
    "# Start with keypoint detection\n",
    "key_points_1, descriptors_1 = keypoint_alignment.get_keypoints_and_descriptors(\n",
    "    full_images[0]\n",
    ")\n",
    "key_points_2, descriptors_2 = keypoint_alignment.get_keypoints_and_descriptors(\n",
    "    full_images[1]\n",
    ")\n",
    "\n",
    "kps1 = np.zeros((0, 0))\n",
    "kps2 = np.zeros((0, 0))\n",
    "kps1 = cv2.drawKeypoints(full_images[0], key_points_1, kps1)\n",
    "kps2 = cv2.drawKeypoints(full_images[1], key_points_2, kps2)\n",
    "\n",
    "f, axarr = plt.subplots(1, 2)\n",
    "axarr[0].imshow(kps1)\n",
    "axarr[1].imshow(kps2)"
   ]
  },
  {
   "cell_type": "code",
   "execution_count": null,
   "metadata": {},
   "outputs": [],
   "source": [
    "# Now apply some matching to the keypoints\n",
    "good_match_sets = keypoint_alignment.match_descriptors(descriptors_1, descriptors_2)\n",
    "\n",
    "resized_image_1 = cv2.copyMakeBorder(\n",
    "    full_images[0],\n",
    "    0,\n",
    "    max(full_images[0].shape[0], full_images[1].shape[0]) - full_images[0].shape[0],\n",
    "    0,\n",
    "    max(full_images[0].shape[1], full_images[1].shape[1]) - full_images[0].shape[1],\n",
    "    cv2.BORDER_CONSTANT,\n",
    ")\n",
    "\n",
    "resized_image_2 = cv2.copyMakeBorder(\n",
    "    full_images[1],\n",
    "    0,\n",
    "    max(full_images[0].shape[0], full_images[1].shape[0]) - full_images[1].shape[0],\n",
    "    0,\n",
    "    max(full_images[0].shape[1], full_images[1].shape[1]) - full_images[1].shape[1],\n",
    "    cv2.BORDER_CONSTANT,\n",
    ")\n",
    "\n",
    "img = cv2.drawMatchesKnn(\n",
    "    resized_image_1,\n",
    "    key_points_1,\n",
    "    resized_image_1,\n",
    "    key_points_2,\n",
    "    good_match_sets,\n",
    "    None,\n",
    "    flags=cv2.DrawMatchesFlags_NOT_DRAW_SINGLE_POINTS,\n",
    ")\n",
    "plt.imshow(img)"
   ]
  },
  {
   "cell_type": "code",
   "execution_count": null,
   "metadata": {},
   "outputs": [],
   "source": [
    "aligned_image = keypoint_alignment.align_image(full_images[1], full_images[0])\n",
    "\n",
    "f, axarr = plt.subplots(1, 2)\n",
    "axarr[0].imshow(cv2.addWeighted(resized_image_1, 0.5, resized_image_2, 0.5, 0.0))\n",
    "axarr[0].title.set_text(\"Before alignment\")\n",
    "axarr[1].imshow(cv2.addWeighted(full_images[0], 0.5, aligned_image, 0.5, 0.0))\n",
    "axarr[1].title.set_text(\"After alignment\")"
   ]
  },
  {
   "cell_type": "code",
   "execution_count": null,
   "metadata": {},
   "outputs": [],
   "source": []
  }
 ],
 "metadata": {
  "kernelspec": {
   "display_name": "Python 3 (ipykernel)",
   "language": "python",
   "name": "python3"
  },
  "language_info": {
   "codemirror_mode": {
    "name": "ipython",
    "version": 3
   },
   "file_extension": ".py",
   "mimetype": "text/x-python",
   "name": "python",
   "nbconvert_exporter": "python",
   "pygments_lexer": "ipython3",
   "version": "3.7.5"
  }
 },
 "nbformat": 4,
 "nbformat_minor": 2
}
