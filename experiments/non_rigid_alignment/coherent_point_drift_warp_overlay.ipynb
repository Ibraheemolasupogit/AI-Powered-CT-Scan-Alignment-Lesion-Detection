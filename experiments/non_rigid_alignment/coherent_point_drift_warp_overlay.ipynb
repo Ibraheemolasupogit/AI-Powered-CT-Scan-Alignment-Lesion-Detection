{
 "cells": [
  {
   "cell_type": "code",
   "execution_count": null,
   "metadata": {},
   "outputs": [],
   "source": [
    "import cv2\n",
    "import numpy as np\n",
    "import cycpd\n",
    "from sklearn.preprocessing import PolynomialFeatures\n",
    "from sklearn.linear_model import Ridge, RANSACRegressor\n",
    "from sklearn.pipeline import make_pipeline\n",
    "from skimage import transform\n",
    "from scipy import ndimage\n",
    "\n",
    "from matplotlib import pyplot as plt\n",
    "\n",
    "plt.rcParams[\"figure.figsize\"] = [20, 10]\n",
    "\n",
    "from ai_ct_scans import (\n",
    "    data_loading,\n",
    "    non_rigid_alignment,\n",
    "    phase_correlation_image_processing,\n",
    "    image_processing_utils,\n",
    ")\n",
    "from ai_ct_scans.phase_correlation import shift_nd"
   ]
  },
  {
   "cell_type": "code",
   "execution_count": null,
   "metadata": {},
   "outputs": [],
   "source": [
    "# Load full scan data\n",
    "patient_dir = data_loading.data_root_directory() / \"1\"\n",
    "patient_loader = data_loading.PatientLoader(patient_dir)\n",
    "\n",
    "patient_loader.abdo.scan_1.load_scan()\n",
    "patient_loader.abdo.scan_2.load_scan()\n",
    "\n",
    "# Load alignment\n",
    "alignment_file_path = \"\"\n",
    "trans = non_rigid_alignment.read_transform(alignment_file_path)"
   ]
  },
  {
   "cell_type": "code",
   "execution_count": null,
   "metadata": {},
   "outputs": [],
   "source": [
    "# Apply alignment to full scan and display a 2D slice\n",
    "reference = patient_loader.abdo.scan_1.full_scan\n",
    "to_align = patient_loader.abdo.scan_2.full_scan\n",
    "aligned = non_rigid_alignment.transform_3d_volume_in_chunks(\n",
    "    patient_loader.abdo.scan_2.full_scan, trans.predict, 10\n",
    ")\n",
    "\n",
    "f, axarr = plt.subplots(1, 2)\n",
    "axarr[0].imshow(\n",
    "    phase_correlation_image_processing.generate_overlay_2d(\n",
    "        [\n",
    "            image_processing_utils.normalise(reference[:, 255, :]),\n",
    "            image_processing_utils.normalise(to_align[:, 255, :]),\n",
    "        ],\n",
    "        False,\n",
    "    )\n",
    ")\n",
    "axarr[0].title.set_text(\"Before alignment\")\n",
    "axarr[1].imshow(\n",
    "    phase_correlation_image_processing.generate_overlay_2d(\n",
    "        [\n",
    "            image_processing_utils.normalise(reference[:, 255, :]),\n",
    "            image_processing_utils.normalise(aligned[:, 255, :]),\n",
    "        ],\n",
    "        False,\n",
    "    )\n",
    ")\n",
    "axarr[1].title.set_text(\"After non-rigid alignment\")"
   ]
  },
  {
   "cell_type": "code",
   "execution_count": null,
   "metadata": {},
   "outputs": [],
   "source": [
    "# Calculate the shifts across the full 3D volume\n",
    "import math\n",
    "\n",
    "chunk_thickness = 10\n",
    "warp = np.empty_like(aligned)\n",
    "shifts = np.empty_like(aligned)\n",
    "shifts = np.zeros((aligned.shape[0], aligned.shape[1], aligned.shape[2], 3))\n",
    "_, y_len, z_len = aligned.shape\n",
    "for i in range(math.ceil(aligned.shape[0] / chunk_thickness)):\n",
    "    chunk_start = i * chunk_thickness\n",
    "    chunk_end = min((i + 1) * chunk_thickness, aligned.shape[0])\n",
    "    x_len = chunk_end - chunk_start\n",
    "    grid_points = non_rigid_alignment._get_grid_points(\n",
    "        (x_len, y_len, z_len), offset=chunk_start\n",
    "    )\n",
    "    coords_in_input = trans.predict(grid_points)\n",
    "    shift = coords_in_input - grid_points\n",
    "    warp[chunk_start:chunk_end, :, :] = np.sum(np.absolute(shift), axis=1).reshape(\n",
    "        x_len, y_len, z_len\n",
    "    )\n",
    "    shifts[chunk_start:chunk_end, :, :, :] = shift.reshape(x_len, y_len, z_len, 3)\n",
    "\n",
    "plt.imshow(warp[:, 255, :])"
   ]
  },
  {
   "cell_type": "code",
   "execution_count": null,
   "metadata": {},
   "outputs": [],
   "source": [
    "x_shift = shifts[:, :, :, 0]\n",
    "y_shift = shifts[:, :, :, 1]\n",
    "z_shift = shifts[:, :, :, 2]"
   ]
  },
  {
   "cell_type": "code",
   "execution_count": null,
   "metadata": {},
   "outputs": [],
   "source": [
    "def divergence(f):\n",
    "    num_dims = len(f)\n",
    "    return np.ufunc.reduce(np.add, [np.gradient(f[i], axis=i) for i in range(num_dims)])"
   ]
  },
  {
   "cell_type": "code",
   "execution_count": null,
   "metadata": {},
   "outputs": [],
   "source": [
    "# Calculate warp using the divergence\n",
    "div = divergence([x_shift, y_shift, z_shift])\n",
    "overlay_slice = image_processing_utils.overlay_warp_on_slice(\n",
    "    aligned[:, 255, :], div[:, 255, :]\n",
    ")\n",
    "plt.imshow(overlay_slice)"
   ]
  },
  {
   "cell_type": "code",
   "execution_count": null,
   "metadata": {},
   "outputs": [],
   "source": [
    "# Generate a stand-alone colour bar for the GUI\n",
    "import matplotlib.cm as cm\n",
    "import matplotlib.colors as mcolors\n",
    "\n",
    "normalize = mcolors.Normalize(vmin=np.min(div[:, 255, :]), vmax=np.max(div[:, 255, :]))\n",
    "fig, ax = plt.subplots(figsize=(1, 10))\n",
    "fig.colorbar(cm.ScalarMappable(norm=normalize, cmap=cm.jet), cax=ax)"
   ]
  },
  {
   "cell_type": "code",
   "execution_count": null,
   "metadata": {},
   "outputs": [],
   "source": []
  }
 ],
 "metadata": {
  "kernelspec": {
   "display_name": "Python 3 (ipykernel)",
   "language": "python",
   "name": "python3"
  },
  "language_info": {
   "codemirror_mode": {
    "name": "ipython",
    "version": 3
   },
   "file_extension": ".py",
   "mimetype": "text/x-python",
   "name": "python",
   "nbconvert_exporter": "python",
   "pygments_lexer": "ipython3",
   "version": "3.7.5"
  }
 },
 "nbformat": 4,
 "nbformat_minor": 5
}
