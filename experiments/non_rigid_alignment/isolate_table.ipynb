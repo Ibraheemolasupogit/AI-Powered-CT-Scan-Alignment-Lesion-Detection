{
 "cells": [
  {
   "cell_type": "code",
   "execution_count": null,
   "id": "a9d21aa8",
   "metadata": {},
   "outputs": [],
   "source": [
    "import cv2\n",
    "import numpy as np\n",
    "\n",
    "from matplotlib import pyplot as plt\n",
    "plt.rcParams['figure.figsize'] = [20, 10]\n",
    "\n",
    "from ai_ct_scans import data_loading,"
   ]
  },
  {
   "cell_type": "code",
   "execution_count": null,
   "id": "1d7b496c",
   "metadata": {},
   "outputs": [],
   "source": [
    "# Load full scan data\n",
    "patient_dir = data_loading.data_root_directory() / \"1\"\n",
    "patient_loader = data_loading.PatientLoader(patient_dir)\n",
    "\n",
    "patient_loader.abdo.scan_1.load_scan()\n",
    "patient_loader.abdo.scan_2.load_scan()\n",
    "\n",
    "scan_1_mid = 255\n",
    "scan_2_mid = 255\n",
    "\n",
    "# Plot some full scale data\n",
    "f, axarr = plt.subplots(1, 2)\n",
    "axarr[0].imshow(patient_loader.abdo.scan_1.full_scan[200, :, :])\n",
    "axarr[0].title.set_text(\"First scan\")\n",
    "axarr[1].imshow(patient_loader.abdo.scan_2.full_scan[200, :, :])\n",
    "axarr[1].title.set_text(\"Second scan\")"
   ]
  },
  {
   "cell_type": "code",
   "execution_count": null,
   "id": "904d1e76",
   "metadata": {},
   "outputs": [],
   "source": [
    "# Take slice through sagittal plane\n",
    "sagittal_slice = patient_loader.abdo.scan_1.full_scan[:, :, 200]\n",
    "plt.imshow(sagittal_slice)"
   ]
  },
  {
   "cell_type": "code",
   "execution_count": null,
   "id": "3dd184b4",
   "metadata": {},
   "outputs": [],
   "source": [
    "# Binarise slice through sagital plane\n",
    "_, binary_slice = cv2.threshold(sagittal_slice, 500, 1, cv2.THRESH_BINARY)\n",
    "plt.imshow(binary_slice)"
   ]
  },
  {
   "cell_type": "code",
   "execution_count": null,
   "id": "0a8cd212",
   "metadata": {},
   "outputs": [],
   "source": [
    "# Do edge detection on binarised image\n",
    "edges = cv2.cv2.Sobel(binary_slice, cv2.CV_8U, 1, 0, ksize=3)\n",
    "plt.imshow(edges)"
   ]
  },
  {
   "cell_type": "code",
   "execution_count": null,
   "id": "f901c4b2",
   "metadata": {},
   "outputs": [],
   "source": [
    "# Apply hough transform to find line that corresponds to table\n",
    "lines = cv2.HoughLines(edges, 1, np.pi / 180, int(edges.shape[0] * 0.5), None, 0, 0)\n",
    "table_locations = []\n",
    "for line in lines:\n",
    "    for i in line:\n",
    "        table_locations.append(i[0])\n",
    "\n",
    "print(table_locations)\n",
    "print(lines[:, 0, 0])"
   ]
  },
  {
   "cell_type": "code",
   "execution_count": null,
   "id": "aaaefc99",
   "metadata": {
    "scrolled": false
   },
   "outputs": [],
   "source": [
    "# Apply over full volume\n",
    "\n",
    "\n",
    "def find_table(slice_image):\n",
    "    _, binary_slice = cv2.threshold(slice_image, 800, 1, cv2.THRESH_BINARY)\n",
    "    edges = cv2.cv2.Sobel(binary_slice, cv2.CV_8U, 1, 0, ksize=3)\n",
    "    lines = cv2.HoughLines(edges, 1, np.pi / 180, int(edges.shape[0] * 0.5), None, 0, 0)\n",
    "    table_locations = []\n",
    "    if lines is None or lines.size == 0:\n",
    "        return\n",
    "    return int(min(lines[:, 0, 0]))\n",
    "\n",
    "\n",
    "sagittal_mid = patient_loader.abdo.scan_1.full_scan.shape[2] // 2\n",
    "sagittal_slice = patient_loader.abdo.scan_1.full_scan[:, :, sagittal_mid]\n",
    "x = []\n",
    "y = []\n",
    "\n",
    "x.append(sagittal_mid)\n",
    "y.append(find_table(sagittal_slice))\n",
    "\n",
    "i = sagittal_mid\n",
    "while i < patient_loader.abdo.scan_1.full_scan.shape[2] - 1:\n",
    "    i += 1\n",
    "    table = find_table(patient_loader.abdo.scan_1.full_scan[:, :, i])\n",
    "    if table:\n",
    "        x.append(i)\n",
    "        y.append(table)\n",
    "    else:\n",
    "        break\n",
    "\n",
    "found = True\n",
    "i = sagittal_mid\n",
    "while i > 1:\n",
    "    i -= 1\n",
    "    table = find_table(patient_loader.abdo.scan_1.full_scan[:, :, i])\n",
    "    if table:\n",
    "        x.append(i)\n",
    "        y.append(table)\n",
    "    else:\n",
    "        break\n",
    "\n",
    "plt.imshow(patient_loader.abdo.scan_1.full_scan[300, :, :])\n",
    "plt.scatter(x, y, c=\"r\")"
   ]
  },
  {
   "cell_type": "code",
   "execution_count": null,
   "id": "015de566",
   "metadata": {},
   "outputs": [],
   "source": [
    "# Remove table from scan\n",
    "scan = patient_loader.abdo.scan_1.full_scan\n",
    "\n",
    "for i in range(len(x)):\n",
    "    scan[:, y[i] - 20 :, x[i]] = 0\n",
    "\n",
    "plt.imshow(scan[300, :, :])"
   ]
  },
  {
   "cell_type": "code",
   "execution_count": null,
   "id": "c2a72fe4",
   "metadata": {},
   "outputs": [],
   "source": []
  }
 ],
 "metadata": {
  "kernelspec": {
   "display_name": "venv",
   "language": "python",
   "name": "venv"
  },
  "language_info": {
   "codemirror_mode": {
    "name": "ipython",
    "version": 3
   },
   "file_extension": ".py",
   "mimetype": "text/x-python",
   "name": "python",
   "nbconvert_exporter": "python",
   "pygments_lexer": "ipython3",
   "version": "3.9.5"
  }
 },
 "nbformat": 4,
 "nbformat_minor": 5
}
